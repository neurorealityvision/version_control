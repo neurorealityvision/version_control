{
 "cells": [
  {
   "cell_type": "code",
   "execution_count": 3,
   "id": "0d5c4dcf",
   "metadata": {
    "scrolled": true
   },
   "outputs": [
    {
     "data": {
      "text/plain": [
       "(-0.5, 63.5, 63.5, -0.5)"
      ]
     },
     "execution_count": 3,
     "metadata": {},
     "output_type": "execute_result"
    },
    {
     "data": {
      "image/png": "[encoded data removed]",
      "text/plain": [
       "<Figure size 640x480 with 1 Axes>"
      ]
     },
     "metadata": {},
     "output_type": "display_data"
    }
   ],
   "source": [
    "from PIL import Image"
   ]
  },
  {
   "cell_type": "code",
   "execution_count": null,
   "id": "5a651874",
   "metadata": {},
   "outputs": [],
   "source": []
  },
  {
   "cell_type": "code",
   "execution_count": null,
   "id": "1faf27c0",
   "metadata": {},
   "outputs": [],
   "source": [
    "# step-1 Define Python Library\n",
    "import numpy as np\n",
    "import matplotlib.pyplot as plt\n",
    "\n",
    "\n",
    "# step-2 Define Image size - height, width and depth\n",
    "# (rows, columns, dimensions) format\n",
    "height, width, channel = 64, 64, 3\n",
    "\n",
    "# step-3 Define Red,Green,Blue Color -for each- 0 to 255\n",
    "red, green, blue = 0, 0, 0\n",
    "\n",
    "# step-4 Generate RGB Numpy Array\n",
    "arr = np.full((height, width, channel), [red, green, blue], dtype=('uint8'))\n",
    "\n",
    "# step-5 Show inline Image Plot\n",
    "plt.imshow(arr)\n",
    "\n",
    "# step-6 Remove edge numbers from Image Plot\n",
    "plt.axis('off')"
   ]
  },
  {
   "cell_type": "code",
   "execution_count": null,
   "id": "e2270427",
   "metadata": {},
   "outputs": [],
   "source": []
  }
 ],
 "metadata": {
  "kernelspec": {
   "display_name": "Python 3 (ipykernel)",
   "language": "python",
   "name": "python3"
  },
  "language_info": {
   "codemirror_mode": {
    "name": "ipython",
    "version": 3
   },
   "file_extension": ".py",
   "mimetype": "text/x-python",
   "name": "python",
   "nbconvert_exporter": "python",
   "pygments_lexer": "ipython3",
   "version": "3.9.13"
  }
 },
 "nbformat": 4,
 "nbformat_minor": 5
}
