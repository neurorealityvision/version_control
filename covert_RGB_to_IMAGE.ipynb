{
 "cells": [
  {
   "cell_type": "code",
   "execution_count": 6,
   "metadata": {},
   "outputs": [],
   "source": [
    "#Define Python Library\n",
    "from PIL import Image\n",
    "import numpy as np\n",
    "import matplotlib.pyplot as plt\n",
    "import cv2"
   ]
  },
  {
   "cell_type": "code",
   "execution_count": 8,
   "metadata": {},
   "outputs": [
    {
     "name": "stdout",
     "output_type": "stream",
     "text": [
      "Size : 180 x 180\n"
     ]
    }
   ],
   "source": [
    "#For Test\n",
    "#read the image file\n",
    "im = Image.open('cat.jpg')\n",
    "pix = np.array(im)\n",
    "height = im.size[1]\n",
    "width = im.size[0]\n",
    "print(\"Size :\", width ,\"x\", height)"
   ]
  },
  {
   "cell_type": "code",
   "execution_count": null,
   "metadata": {},
   "outputs": [],
   "source": [
    "#For Test\n",
    "#make 3-dimension RGB data\n",
    "numpy_array = np.array(im, dtype=\"uint8\")\n",
    "print(numpy_array)"
   ]
  },
  {
   "cell_type": "code",
   "execution_count": 10,
   "metadata": {},
   "outputs": [
    {
     "name": "stdout",
     "output_type": "stream",
     "text": [
      "[204 212 215 ... 149  52  95]\n"
     ]
    }
   ],
   "source": [
    "#For Test\n",
    "#convert 3-dimension RGB data into 1-dimension\n",
    "flatten_numpy_array = np.ravel(numpy_array, order='C')\n",
    "print(flatten_numpy_array)"
   ]
  },
  {
   "cell_type": "code",
   "execution_count": 11,
   "metadata": {},
   "outputs": [],
   "source": [
    "#For Test\n",
    "#save txt file of rgb data of picture\n",
    "np.savetxt(\"cat_rgb_data\", flatten_numpy_array)"
   ]
  },
  {
   "cell_type": "code",
   "execution_count": 12,
   "metadata": {},
   "outputs": [
    {
     "name": "stderr",
     "output_type": "stream",
     "text": [
      "C:\\Users\\ask_m\\AppData\\Local\\Temp\\ipykernel_20320\\3899484097.py:2: DeprecationWarning: loadtxt(): Parsing an integer via a float is deprecated.  To avoid this warning, you can:\n",
      "    * make sure the original data is stored as integers.\n",
      "    * use the `converters=` keyword argument.  If you only use\n",
      "      NumPy 1.23 or later, `converters=float` will normally work.\n",
      "    * Use `np.loadtxt(...).astype(np.int64)` parsing the file as\n",
      "      floating point and then convert it.  (On all NumPy versions.)\n",
      "  (Deprecated NumPy 1.23)\n",
      "  loaded_array = np.loadtxt(\"cat_rgb_data\",dtype='uint8')\n"
     ]
    }
   ],
   "source": [
    "#load txt data\n",
    "loaded_array = np.loadtxt(\"cat_rgb_data\",dtype='uint8')"
   ]
  },
  {
   "cell_type": "code",
   "execution_count": 13,
   "metadata": {},
   "outputs": [
    {
     "name": "stdout",
     "output_type": "stream",
     "text": [
      "######################\n"
     ]
    }
   ],
   "source": [
    "#reshape flatten data into 3-dimension\n",
    "reshaped_numpy_array = loaded_array.reshape(height,width,3)\n",
    "#print(reshaped_numpy_array)"
   ]
  },
  {
   "cell_type": "code",
   "execution_count": 14,
   "metadata": {},
   "outputs": [],
   "source": [
    "myimage = Image.fromarray(reshaped_numpy_array, 'RGB')\n",
    "myimage.show()"
   ]
  }
 ],
 "metadata": {
  "kernelspec": {
   "display_name": "Python 3",
   "language": "python",
   "name": "python3"
  },
  "language_info": {
   "codemirror_mode": {
    "name": "ipython",
    "version": 3
   },
   "file_extension": ".py",
   "mimetype": "text/x-python",
   "name": "python",
   "nbconvert_exporter": "python",
   "pygments_lexer": "ipython3",
   "version": "3.11.1 (tags/v3.11.1:a7a450f, Dec  6 2022, 19:58:39) [MSC v.1934 64 bit (AMD64)]"
  },
  "orig_nbformat": 4,
  "vscode": {
   "interpreter": {
    "hash": "7dea3e6da52d54f5c60b64283bd2f5822a63ca33fe77fdd3c85a00289896f3eb"
   }
  }
 },
 "nbformat": 4,
 "nbformat_minor": 2
}
